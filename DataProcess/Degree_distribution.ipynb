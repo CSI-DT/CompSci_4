{
 "cells": [
  {
   "cell_type": "code",
   "execution_count": 2,
   "id": "4a609b50",
   "metadata": {},
   "outputs": [],
   "source": [
    "import pandas as pd\n",
    "import numpy as np\n",
    "import math as m\n",
    "import time \n",
    "from pycowview.data import csv_read_FA\n",
    "from pycowview.manipulate import unique_cows\n",
    "from pycowview.metrics import interaction_time\n",
    "import networkx as nx\n",
    "%matplotlib inline\n",
    "import matplotlib.pyplot as plt\n",
    "import matplotlib as mpl\n",
    "import itertools\n",
    "import os\n",
    "import community\n",
    "from collections import defaultdict\n",
    "import progressbar\n",
    "import random\n",
    "import cv2\n",
    "from scipy import stats\n",
    "from statsmodels.sandbox.stats.multicomp import multipletests\n"
   ]
  },
  {
   "cell_type": "code",
   "execution_count": 3,
   "id": "91d37e3e",
   "metadata": {},
   "outputs": [],
   "source": [
    "# This function will get the path of each csv file\n",
    "def findAllFile(base):\n",
    "    for root, ds, fs in os.walk(base):\n",
    "        for f in fs:\n",
    "            if f.endswith('.csv'):\n",
    "                fullname = os.path.join(root, f)\n",
    "                yield fullname"
   ]
  },
  {
   "cell_type": "code",
   "execution_count": 4,
   "id": "b6af8789",
   "metadata": {},
   "outputs": [],
   "source": [
    "# Input is the folders where the time matrix and cowlist are saved\n",
    "# Output is a list which consists of 14 dictionaries\n",
    "# The structure of dictionary:Cowlist,TimeMatrix,AajacencyMatrix_binary,Unweighted_Graph\n",
    "def time_matrix_to_graph(tm_folder,cl_folder):\n",
    "    dict_list = []\n",
    "    #i = 0\n",
    "    for tm,cl in zip(findAllFile(tm_folder),findAllFile(cl_folder)):\n",
    "        # print(tm,cl)\n",
    "        # Get the path of csv\n",
    "        # get cowlist\n",
    "        cowlist = np.loadtxt(cl,delimiter=\",\").astype(int)\n",
    "        # load original time matrix from csv and process it to be an adjacency Matrix\n",
    "        OM = np.loadtxt(tm,delimiter=\",\")\n",
    "        \n",
    "        # Get unweighted adjacency matrix(binary)\n",
    "        # init adjacency matrix\n",
    "        AM = np.zeros((OM.shape))\n",
    "        # set the threshold to be 30 minutes(1800 seconds)\n",
    "        epsilon = 1800\n",
    "        # just consider if there is an edge between two cows, the edge is unweighted\n",
    "        AM[OM >= epsilon] = 1\n",
    "        AM[OM < epsilon] = 0\n",
    "        \n",
    "        # Get graph from AM, no-direct and no-weight graph\n",
    "        G_AM_temp = nx.from_numpy_matrix(AM,parallel_edges=False,create_using = nx.Graph())\n",
    "        # Make sure the order of cowlist is the same as the row name!\n",
    "        mapping = dict(zip(G_AM_temp, cowlist))\n",
    "        # Rename the nodes\n",
    "        G_AM = nx.relabel_nodes(G_AM_temp, mapping)\n",
    "        \n",
    "        # Get the dict of the collection(CL,TM,AM_binary,Graph)\n",
    "        data_dict = dict(CL=cowlist,TM=OM,AM_binary=AM,Graph=G_AM)\n",
    "        #i = i + 1\n",
    "        dict_list.append(data_dict)\n",
    "    #print(i)\n",
    "    print('The length of the list: ',len(dict_list))\n",
    "    return dict_list"
   ]
  },
  {
   "cell_type": "code",
   "execution_count": 5,
   "id": "a5ce5792",
   "metadata": {
    "scrolled": true
   },
   "outputs": [
    {
     "name": "stdout",
     "output_type": "stream",
     "text": [
      "The length of the list:  14\n"
     ]
    }
   ],
   "source": [
    "# This part is used to process the time matrices\n",
    "tm_folder = './time_matrix'\n",
    "cl_folder = './cow_list'\n",
    "data_dict_list = time_matrix_to_graph(tm_folder,cl_folder)"
   ]
  },
  {
   "cell_type": "code",
   "execution_count": 6,
   "id": "93ebdc0c",
   "metadata": {},
   "outputs": [],
   "source": [
    "def own_degree_hist(G,max_degree):\n",
    "    degrees = [G.degree(n) for n in G.nodes()]\n",
    "    hist, bins = np.histogram(degrees, bins = max_degree, range = (0, max_degree))\n",
    "    return hist\n",
    "    "
   ]
  },
  {
   "cell_type": "code",
   "execution_count": 7,
   "id": "67cc6735",
   "metadata": {},
   "outputs": [],
   "source": [
    "#Create the histogram\n",
    "max_degree = 27\n",
    "hist = {}\n",
    "bins = {}\n",
    "for i in range(len(data_dict_list)):\n",
    "    hist[i] = own_degree_hist(data_dict_list[i].get('Graph'), max_degree)"
   ]
  },
  {
   "cell_type": "code",
   "execution_count": 38,
   "id": "e030ed85",
   "metadata": {},
   "outputs": [
    {
     "name": "stdout",
     "output_type": "stream",
     "text": [
      "1.0\n",
      "(array([False, False, False, False, False, False, False, False, False,\n",
      "       False, False, False, False, False, False, False, False, False,\n",
      "       False, False, False, False, False, False, False, False, False,\n",
      "       False, False, False, False, False, False, False, False, False,\n",
      "       False, False, False, False, False, False, False, False, False,\n",
      "       False, False, False, False, False, False, False, False, False,\n",
      "       False, False, False, False, False, False, False, False, False,\n",
      "       False, False, False, False, False, False, False, False, False,\n",
      "       False, False, False, False, False, False, False, False, False,\n",
      "       False, False, False, False, False, False, False, False, False,\n",
      "       False, False, False, False, False, False, False, False, False,\n",
      "       False, False, False, False, False, False, False, False, False,\n",
      "       False, False, False, False, False, False, False, False, False,\n",
      "       False, False, False, False, False, False, False, False, False,\n",
      "       False, False, False, False, False, False, False, False, False,\n",
      "       False, False, False, False, False, False, False, False, False,\n",
      "       False, False, False, False, False, False, False, False, False,\n",
      "       False, False, False, False, False, False, False, False, False,\n",
      "       False, False, False, False, False, False, False, False, False,\n",
      "       False, False, False, False, False, False, False, False, False,\n",
      "       False, False]), array([1., 1., 1., 1., 1., 1., 1., 1., 1., 1., 1., 1., 1., 1., 1., 1., 1.,\n",
      "       1., 1., 1., 1., 1., 1., 1., 1., 1., 1., 1., 1., 1., 1., 1., 1., 1.,\n",
      "       1., 1., 1., 1., 1., 1., 1., 1., 1., 1., 1., 1., 1., 1., 1., 1., 1.,\n",
      "       1., 1., 1., 1., 1., 1., 1., 1., 1., 1., 1., 1., 1., 1., 1., 1., 1.,\n",
      "       1., 1., 1., 1., 1., 1., 1., 1., 1., 1., 1., 1., 1., 1., 1., 1., 1.,\n",
      "       1., 1., 1., 1., 1., 1., 1., 1., 1., 1., 1., 1., 1., 1., 1., 1., 1.,\n",
      "       1., 1., 1., 1., 1., 1., 1., 1., 1., 1., 1., 1., 1., 1., 1., 1., 1.,\n",
      "       1., 1., 1., 1., 1., 1., 1., 1., 1., 1., 1., 1., 1., 1., 1., 1., 1.,\n",
      "       1., 1., 1., 1., 1., 1., 1., 1., 1., 1., 1., 1., 1., 1., 1., 1., 1.,\n",
      "       1., 1., 1., 1., 1., 1., 1., 1., 1., 1., 1., 1., 1., 1., 1., 1., 1.,\n",
      "       1., 1., 1., 1., 1., 1., 1., 1., 1., 1., 1., 1.]), 0.00028179157713692504, 0.0002747252747252747)\n"
     ]
    }
   ],
   "source": [
    "# Compare histograms and calculate the mean of probabilities that the histograms are from the same distribution\n",
    "results = np.zeros((len(data_dict_list),len(data_dict_list)))\n",
    "p = np.zeros((len(data_dict_list),len(data_dict_list)))\n",
    "p_sum = 0\n",
    "m = 0\n",
    "test_P = np.zeros(len(data_dict_list)*(len(data_dict_list)-1))\n",
    "for i in range(len(data_dict_list)):\n",
    "    for j in range(len(data_dict_list)):\n",
    "        if not (i==j):\n",
    "            results[i][j], p[i][j] = stats.ks_2samp(hist[i], hist[j])\n",
    "            p_sum += p[i][j]\n",
    "            test_P[m] = p[i][j]\n",
    "            m += 1\n",
    "\n",
    "p_adjusted = multipletests(test_P, alpha = 0.05, method='bonferroni', is_sorted=False)\n",
    "psum = sum(p_adjusted[0])\n",
    "print((len(test_P)-psum)/len(test_P))\n",
    "print(p_adjusted)\n",
    "#p_sum = p_sum/((len(data_dict_list)-1)*len(data_dict_list))\n",
    "#print(f'The probability that two sets of samples were drawn from the same (but unknown) probability distribution: {p_sum}')"
   ]
  },
  {
   "cell_type": "code",
   "execution_count": 19,
   "id": "4606b656",
   "metadata": {
    "scrolled": true
   },
   "outputs": [
    {
     "data": {
      "image/png": "[encoded data removed]",
      "text/plain": [
       "<Figure size 576x432 with 1 Axes>"
      ]
     },
     "metadata": {
      "needs_background": "light"
     },
     "output_type": "display_data"
    }
   ],
   "source": [
    "# Plot all days in one histogram\n",
    "plt.figure(figsize=(8,6))\n",
    "for i in range(len(data_dict_list)):\n",
    "    G = data_dict_list[i].get('Graph')\n",
    "    degrees = [G.degree(n) for n in G.nodes()]\n",
    "    plt.hist(degrees, bins = 28, alpha = 0.4)\n",
    "plt.xlabel('Edges')\n",
    "plt.ylabel('Cows')\n",
    "plt.savefig('./community/Hist/AllDay.png')"
   ]
  },
  {
   "cell_type": "code",
   "execution_count": 10,
   "id": "2fd949c8",
   "metadata": {},
   "outputs": [],
   "source": [
    "# Plot and save a single days histogram\n",
    "def hist_degree_dist(G, day):\n",
    "    degrees = [G.degree(n) for n in G.nodes()]\n",
    "    plt.hist(degrees, max(degrees)-min(degrees))\n",
    "    plt.xlabel('Edges')\n",
    "    plt.ylabel('Cows')\n",
    "    plt.title(f'Day {day+1}')\n",
    "    plt.savefig('./community/Hist/Day%d.png'%i)\n",
    "    plt.show()"
   ]
  },
  {
   "cell_type": "code",
   "execution_count": 21,
   "id": "5512ddba",
   "metadata": {
    "scrolled": false
   },
   "outputs": [
    {
     "ename": "NameError",
     "evalue": "name 'hist_degree_dist' is not defined",
     "output_type": "error",
     "traceback": [
      "\u001b[1;31m---------------------------------------------------------------------------\u001b[0m",
      "\u001b[1;31mNameError\u001b[0m                                 Traceback (most recent call last)",
      "\u001b[1;32m~\\AppData\\Local\\Temp/ipykernel_21036/3994431826.py\u001b[0m in \u001b[0;36m<module>\u001b[1;34m\u001b[0m\n\u001b[0;32m      1\u001b[0m \u001b[1;31m# Plot and save all days histogram\u001b[0m\u001b[1;33m\u001b[0m\u001b[1;33m\u001b[0m\u001b[0m\n\u001b[0;32m      2\u001b[0m \u001b[1;32mfor\u001b[0m \u001b[0mi\u001b[0m \u001b[1;32min\u001b[0m \u001b[0mrange\u001b[0m\u001b[1;33m(\u001b[0m\u001b[0mlen\u001b[0m\u001b[1;33m(\u001b[0m\u001b[0mdata_dict_list\u001b[0m\u001b[1;33m)\u001b[0m\u001b[1;33m)\u001b[0m\u001b[1;33m:\u001b[0m\u001b[1;33m\u001b[0m\u001b[1;33m\u001b[0m\u001b[0m\n\u001b[1;32m----> 3\u001b[1;33m     \u001b[0mhist_degree_dist\u001b[0m\u001b[1;33m(\u001b[0m\u001b[0mdata_dict_list\u001b[0m\u001b[1;33m[\u001b[0m\u001b[0mi\u001b[0m\u001b[1;33m]\u001b[0m\u001b[1;33m.\u001b[0m\u001b[0mget\u001b[0m\u001b[1;33m(\u001b[0m\u001b[1;34m'Graph'\u001b[0m\u001b[1;33m)\u001b[0m\u001b[1;33m,\u001b[0m \u001b[0mi\u001b[0m\u001b[1;33m)\u001b[0m\u001b[1;33m\u001b[0m\u001b[1;33m\u001b[0m\u001b[0m\n\u001b[0m",
      "\u001b[1;31mNameError\u001b[0m: name 'hist_degree_dist' is not defined"
     ]
    }
   ],
   "source": [
    "# Plot and save all days histogram\n",
    "for i in range(len(data_dict_list)):\n",
    "    hist_degree_dist(data_dict_list[i].get('Graph'), i)"
   ]
  },
  {
   "cell_type": "code",
   "execution_count": null,
   "id": "3a0e87a6",
   "metadata": {},
   "outputs": [],
   "source": []
  }
 ],
 "metadata": {
  "kernelspec": {
   "display_name": "Python 3 (ipykernel)",
   "language": "python",
   "name": "python3"
  },
  "language_info": {
   "codemirror_mode": {
    "name": "ipython",
    "version": 3
   },
   "file_extension": ".py",
   "mimetype": "text/x-python",
   "name": "python",
   "nbconvert_exporter": "python",
   "pygments_lexer": "ipython3",
   "version": "3.9.7"
  }
 },
 "nbformat": 4,
 "nbformat_minor": 5
}
