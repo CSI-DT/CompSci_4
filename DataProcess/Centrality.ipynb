{
 "cells": [
  {
   "cell_type": "code",
   "execution_count": 1,
   "id": "4a609b50",
   "metadata": {},
   "outputs": [],
   "source": [
    "import pandas as pd\n",
    "import numpy as np\n",
    "import math as m\n",
    "import time \n",
    "from pycowview.data import csv_read_FA\n",
    "from pycowview.manipulate import unique_cows\n",
    "from pycowview.metrics import interaction_time\n",
    "import networkx as nx\n",
    "%matplotlib inline\n",
    "import matplotlib.pyplot as plt\n",
    "import matplotlib as mpl\n",
    "import itertools\n",
    "import os\n",
    "import community\n",
    "from collections import defaultdict\n",
    "import progressbar\n",
    "import random\n",
    "import cv2\n",
    "from scipy import stats\n"
   ]
  },
  {
   "cell_type": "code",
   "execution_count": 2,
   "id": "91d37e3e",
   "metadata": {},
   "outputs": [],
   "source": [
    "# This function will get the path of each csv file\n",
    "def findAllFile(base):\n",
    "    for root, ds, fs in os.walk(base):\n",
    "        for f in fs:\n",
    "            if f.endswith('.csv'):\n",
    "                fullname = os.path.join(root, f)\n",
    "                yield fullname"
   ]
  },
  {
   "cell_type": "code",
   "execution_count": 3,
   "id": "b6af8789",
   "metadata": {},
   "outputs": [],
   "source": [
    "# Input is the folders where the time matrix and cowlist are saved\n",
    "# Output is a list which consists of 14 dictionaries\n",
    "# The structure of dictionary:Cowlist,TimeMatrix,AajacencyMatrix_binary,Unweighted_Graph\n",
    "def time_matrix_to_graph(tm_folder,cl_folder):\n",
    "    dict_list = []\n",
    "    #i = 0\n",
    "    for tm,cl in zip(findAllFile(tm_folder),findAllFile(cl_folder)):\n",
    "        # print(tm,cl)\n",
    "        # Get the path of csv\n",
    "        # get cowlist\n",
    "        cowlist = np.loadtxt(cl,delimiter=\",\").astype(int)\n",
    "        # load original time matrix from csv and process it to be an adjacency Matrix\n",
    "        OM = np.loadtxt(tm,delimiter=\",\")\n",
    "        \n",
    "        # Get unweighted adjacency matrix(binary)\n",
    "        # init adjacency matrix\n",
    "        AM = np.zeros((OM.shape))\n",
    "        # set the threshold to be 30 minutes(1800 seconds)\n",
    "        epsilon = 1800\n",
    "        # just consider if there is an edge between two cows, the edge is unweighted\n",
    "        AM[OM >= epsilon] = 1\n",
    "        AM[OM < epsilon] = 0\n",
    "        \n",
    "        # Get graph from AM, no-direct and no-weight graph\n",
    "        G_AM_temp = nx.from_numpy_matrix(AM,parallel_edges=False,create_using = nx.Graph())\n",
    "        # Make sure the order of cowlist is the same as the row name!\n",
    "        mapping = dict(zip(G_AM_temp, cowlist))\n",
    "        # Rename the nodes\n",
    "        G_AM = nx.relabel_nodes(G_AM_temp, mapping)\n",
    "        \n",
    "        # Get the dict of the collection(CL,TM,AM_binary,Graph)\n",
    "        data_dict = dict(CL=cowlist,TM=OM,AM_binary=AM,Graph=G_AM)\n",
    "        #i = i + 1\n",
    "        dict_list.append(data_dict)\n",
    "    #print(i)\n",
    "    print('The length of the list: ',len(dict_list))\n",
    "    return dict_list"
   ]
  },
  {
   "cell_type": "code",
   "execution_count": 4,
   "id": "37ff7e88",
   "metadata": {},
   "outputs": [],
   "source": [
    "def cowlist_import(cl_folder):\n",
    "    cow_lists = []\n",
    "    for cl in findAllFile(cl_folder):\n",
    "        cowlist = np.loadtxt(cl,delimiter=\",\").astype(int)\n",
    "        cow_lists.append(cowlist)\n",
    "    return cow_lists"
   ]
  },
  {
   "cell_type": "code",
   "execution_count": 5,
   "id": "a5ce5792",
   "metadata": {
    "scrolled": true
   },
   "outputs": [
    {
     "name": "stdout",
     "output_type": "stream",
     "text": [
      "The length of the list:  14\n"
     ]
    }
   ],
   "source": [
    "# This part is used to process the time matrices\n",
    "tm_folder = './time_matrix'\n",
    "cl_folder = './cow_list'\n",
    "data_dict_list = time_matrix_to_graph(tm_folder,cl_folder)\n",
    "cow_lists = cowlist_import(cl_folder)"
   ]
  },
  {
   "cell_type": "code",
   "execution_count": 6,
   "id": "93ebdc0c",
   "metadata": {},
   "outputs": [],
   "source": [
    "def own_degree_hist(G,max_degree):\n",
    "    degrees = [G.degree(n) for n in G.nodes()]\n",
    "    hist, bins = np.histogram(degrees, bins = max_degree, range = (0, max_degree))\n",
    "    return hist\n",
    "    "
   ]
  },
  {
   "cell_type": "code",
   "execution_count": 7,
   "id": "ee97018e",
   "metadata": {},
   "outputs": [],
   "source": [
    "def top_centrality_count(G, num_top):\n",
    "    cent = nx.degree_centrality(G)\n",
    "    array = np.array(list(cent.items()))[:,1]\n",
    "    top_idx = np.argsort(array)[-num_top:]\n",
    "    print(top_idx)\n",
    "    return top_idx"
   ]
  },
  {
   "cell_type": "code",
   "execution_count": 10,
   "id": "bcaf190a",
   "metadata": {},
   "outputs": [
    {
     "name": "stdout",
     "output_type": "stream",
     "text": [
      "[  3  68 149  25  89]\n",
      "[ 94  81 150  78 134]\n",
      "[202 185  57 128 138]\n",
      "[189 204 152 164 172]\n",
      "[  4  63  53 156 174]\n",
      "[195 110  59 157 101]\n",
      "[ 86  84  10 180 107]\n",
      "[188 118  86 145  83]\n",
      "[69 42 10 14 44]\n",
      "[ 42  19 200  47  80]\n",
      "[ 17 125 163  96  34]\n",
      "[ 72 191 184  70  82]\n",
      "[168  22 101 138  29]\n",
      "[107 152 146  88  35]\n"
     ]
    }
   ],
   "source": [
    "num_to_look_at = 5\n",
    "top_cows = np.zeros((num_to_look_at, len(data_dict_list)))\n",
    "for i in range(len(data_dict_list)):\n",
    "    indexes = top_centrality_count(data_dict_list[i].get('Graph'), num_to_look_at)\n",
    "    cow_list = cow_lists[i]\n",
    "    for j, index in enumerate(indexes):\n",
    "        top_cows[j, i] = cow_list[index]\n",
    "np.savetxt('./community/Centr/center.csv', top_cows, delimiter=\",\")\n"
   ]
  },
  {
   "cell_type": "code",
   "execution_count": 11,
   "id": "dd6004fb",
   "metadata": {},
   "outputs": [
    {
     "name": "stdout",
     "output_type": "stream",
     "text": [
      "Average apperances: 1.8421052631578947\n",
      "Expected appearances if random = \n",
      "Average apperances when removed ones: 2.8823529411764706, which are 17 out of 38\n"
     ]
    },
    {
     "data": {
      "text/plain": [
       "(array([21., 10.,  0.,  4.,  0.,  0.,  2.,  0.,  0.,  1.]),\n",
       " array([1. , 1.6, 2.2, 2.8, 3.4, 4. , 4.6, 5.2, 5.8, 6.4, 7. ]),\n",
       " <BarContainer object of 10 artists>)"
      ]
     },
     "execution_count": 11,
     "metadata": {},
     "output_type": "execute_result"
    },
    {
     "data": {
      "image/png": "[encoded data removed]",
      "text/plain": [
       "<Figure size 432x288 with 1 Axes>"
      ]
     },
     "metadata": {
      "needs_background": "light"
     },
     "output_type": "display_data"
    }
   ],
   "source": [
    "uniuque_top_cows = np.unique(top_cows)\n",
    "num_tops = np.zeros(len(uniuque_top_cows))\n",
    "for i, x in enumerate(uniuque_top_cows):\n",
    "    ii = np.where(top_cows == x)[0]\n",
    "    #print(f'Tag {int(x)} has the positions {ii}')\n",
    "    num_tops[i] = len(ii)\n",
    "print(f'Average apperances: {sum(num_tops)/len(uniuque_top_cows)}')\n",
    "print(f'Expected appearances if random = ')\n",
    "num_except_one = []\n",
    "for i, x in enumerate(num_tops):\n",
    "    if not(x == 1):\n",
    "        num_except_one.append(num_tops[i])\n",
    "print(f'Average apperances when removed ones: {sum(num_except_one)/len(num_except_one)}, which are {len(num_except_one)} out of {len(uniuque_top_cows)}')\n",
    "plt.hist(num_tops)"
   ]
  },
  {
   "cell_type": "code",
   "execution_count": 12,
   "id": "6c1a3c87",
   "metadata": {},
   "outputs": [],
   "source": [
    "def unique(list1):\n",
    "    unique_list = []\n",
    "    for i in range(14):\n",
    "        list2 = list1[i]\n",
    "        for x in list2:\n",
    "            if x not in unique_list:\n",
    "                unique_list.append(x)\n",
    "    return unique_list"
   ]
  },
  {
   "cell_type": "code",
   "execution_count": 24,
   "id": "c1f111f8",
   "metadata": {},
   "outputs": [
    {
     "data": {
      "image/png": "[encoded data removed]",
      "text/plain": [
       "<Figure size 432x288 with 1 Axes>"
      ]
     },
     "metadata": {
      "needs_background": "light"
     },
     "output_type": "display_data"
    }
   ],
   "source": [
    "# Creates histogram showing distribution of cows according to Centrality, over 14 days\n",
    "unique_cows = unique(cow_lists)\n",
    "unique_times = np.zeros(len(unique_cows))\n",
    "how_many_days = np.zeros(len(unique_cows))\n",
    "for i in range(len(data_dict_list)):\n",
    "    cent = nx.degree_centrality(data_dict_list[i].get('Graph'))\n",
    "    array = np.array(list(cent.items()))[:,1]\n",
    "    cow_list = cow_lists[i]\n",
    "    for j, cow in enumerate(unique_cows):\n",
    "        k = np.where(cow_list == cow)[0]\n",
    "        if not (k.size == 0):\n",
    "            unique_times[j] += array[k]\n",
    "            how_many_days[j] += 1\n",
    "unique_times = unique_times/how_many_days\n",
    "#unique_times = unique_times/len(data_dict_list)\n",
    "plt.hist(unique_times, bins = 30)\n",
    "plt.xlabel('Centrality')\n",
    "plt.ylabel('Cows')\n",
    "#plt.title('Centrality of Dary cows over 14 days, with 1 days intervals')\n",
    "plt.title('Average centrality over 14 days')\n",
    "plt.savefig('./community/Centr/Centrality14days_Adjusted.png')"
   ]
  },
  {
   "cell_type": "code",
   "execution_count": null,
   "id": "9ab0dd10",
   "metadata": {},
   "outputs": [],
   "source": []
  }
 ],
 "metadata": {
  "kernelspec": {
   "display_name": "Python 3 (ipykernel)",
   "language": "python",
   "name": "python3"
  },
  "language_info": {
   "codemirror_mode": {
    "name": "ipython",
    "version": 3
   },
   "file_extension": ".py",
   "mimetype": "text/x-python",
   "name": "python",
   "nbconvert_exporter": "python",
   "pygments_lexer": "ipython3",
   "version": "3.9.7"
  }
 },
 "nbformat": 4,
 "nbformat_minor": 5
}
