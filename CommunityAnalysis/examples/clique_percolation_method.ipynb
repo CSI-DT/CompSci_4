{
 "cells": [
  {
   "cell_type": "code",
   "execution_count": 2,
   "metadata": {},
   "outputs": [],
   "source": [
    "import pandas as pd\n",
    "import numpy as np\n",
    "import math as m\n",
    "import time \n",
    "from pycowview.data import csv_read_FA\n",
    "from pycowview.manipulate import unique_cows\n",
    "from pycowview.metrics import interaction_time\n",
    "from onmi import onmi\n",
    "import networkx as nx\n",
    "%matplotlib inline\n",
    "import matplotlib.pyplot as plt\n",
    "import matplotlib as mpl\n",
    "import itertools\n",
    "import os\n",
    "import community\n",
    "from collections import defaultdict\n",
    "import progressbar\n",
    "import random"
   ]
  },
  {
   "cell_type": "code",
   "execution_count": 3,
   "metadata": {},
   "outputs": [],
   "source": [
    "# This function will get the path of each csv file\n",
    "def findAllFile(base):\n",
    "    for root, ds, fs in os.walk(base):\n",
    "        for f in fs:\n",
    "            if f.endswith('.csv'):\n",
    "                fullname = os.path.join(root, f)\n",
    "                yield fullname\n",
    "\n",
    "# Input is the folders where the time matrix and cowlist are saved\n",
    "# Output is a list which consists of 14 dictionaries\n",
    "# The structure of dictionary:Cowlist,TimeMatrix,AajacencyMatrix_binary,Unweighted_Graph\n",
    "def time_matrix_to_graph(tm_folder,cl_folder):\n",
    "    dict_list = []\n",
    "    i = 0\n",
    "    tmlist = list(findAllFile(tm_folder))\n",
    "    tmlist.sort()\n",
    "    cllist = list(findAllFile(cl_folder))\n",
    "    cllist.sort()\n",
    "    for tm,cl in zip(tmlist,cllist):\n",
    "        # print(tm,cl)\n",
    "        # Get the path of csv\n",
    "        # get cowlist\n",
    "        cowlist = np.loadtxt(cl,delimiter=\",\").astype(int)\n",
    "        # load original time matrix from csv and process it to be an adjacency Matrix\n",
    "        OM = np.asmatrix(np.loadtxt(tm,delimiter=\",\"))\n",
    "        \n",
    "        # Get unweighted adjacency matrix(binary)\n",
    "        # init adjacency matrix\n",
    "        AM = np.zeros((OM.shape))\n",
    "        # set the threshold to be 30 minutes(1800 seconds)\n",
    "        epsilon = 1800\n",
    "        # just consider if there is an edge between two cows, the edge is unweighted\n",
    "        AM[OM >= epsilon] = 1\n",
    "        AM[OM < epsilon] = 0\n",
    "        \n",
    "        # Get weighted adjacency matrix\n",
    "        \n",
    "        \n",
    "        # Get graph from AM, no-direct and no-weight graph\n",
    "        G_AM_temp = nx.from_numpy_matrix(AM,parallel_edges=False,create_using = nx.Graph())\n",
    "        # Make sure the order of cowlist is the same as the row name!\n",
    "        print('Shape of matrix:',AM.shape)\n",
    "        print('number of nodes in graph',len(G_AM_temp),'length of cowlist',len(cowlist))\n",
    "        mapping = dict(zip(G_AM_temp, cowlist))\n",
    "        #print(mapping)\n",
    "        # Rename the nodes\n",
    "        G_AM = nx.relabel_nodes(G_AM_temp, mapping)\n",
    "        \n",
    "        # Get the dict of the collection(CL,TM,AM_binary,Graph)\n",
    "        data_dict = dict(CL=cowlist,TM=OM,AM_binary=AM,Graph=G_AM)\n",
    "        print('Document No.',i)\n",
    "        print('TM path:',tm,'CL path:',cl)\n",
    "        i = i + 1\n",
    "        dict_list.append(data_dict)\n",
    "\n",
    "    print('The length of the list: ',len(dict_list))\n",
    "    return dict_list"
   ]
  },
  {
   "cell_type": "code",
   "execution_count": 4,
   "metadata": {},
   "outputs": [
    {
     "name": "stdout",
     "output_type": "stream",
     "text": [
      "Shape of matrix: (213, 213)\n",
      "number of nodes in graph 213 length of cowlist 213\n",
      "Document No. 0\n",
      "TM path: ./time_matrix\\Time_FA_20201016T000000UTC.csv CL path: ./cow_list\\Cow_list_20201016T000000UTC.csv\n",
      "Shape of matrix: (212, 212)\n",
      "number of nodes in graph 212 length of cowlist 212\n",
      "Document No. 1\n",
      "TM path: ./time_matrix\\Time_FA_20201017T000000UTC.csv CL path: ./cow_list\\Cow_list_20201017T000000UTC.csv\n",
      "Shape of matrix: (219, 219)\n",
      "number of nodes in graph 219 length of cowlist 219\n",
      "Document No. 2\n",
      "TM path: ./time_matrix\\Time_FA_20201018T000000UTC.csv CL path: ./cow_list\\Cow_list_20201018T000000UTC.csv\n",
      "Shape of matrix: (208, 208)\n",
      "number of nodes in graph 208 length of cowlist 208\n",
      "Document No. 3\n",
      "TM path: ./time_matrix\\Time_FA_20201019T000000UTC.csv CL path: ./cow_list\\Cow_list_20201019T000000UTC.csv\n",
      "Shape of matrix: (209, 209)\n",
      "number of nodes in graph 209 length of cowlist 209\n",
      "Document No. 4\n",
      "TM path: ./time_matrix\\Time_FA_20201020T000000UTC.csv CL path: ./cow_list\\Cow_list_20201020T000000UTC.csv\n",
      "Shape of matrix: (208, 208)\n",
      "number of nodes in graph 208 length of cowlist 208\n",
      "Document No. 5\n",
      "TM path: ./time_matrix\\Time_FA_20201021T000000UTC.csv CL path: ./cow_list\\Cow_list_20201021T000000UTC.csv\n",
      "Shape of matrix: (210, 210)\n",
      "number of nodes in graph 210 length of cowlist 210\n",
      "Document No. 6\n",
      "TM path: ./time_matrix\\Time_FA_20201022T000000UTC.csv CL path: ./cow_list\\Cow_list_20201022T000000UTC.csv\n",
      "Shape of matrix: (210, 210)\n",
      "number of nodes in graph 210 length of cowlist 210\n",
      "Document No. 7\n",
      "TM path: ./time_matrix\\Time_FA_20201023T000000UTC.csv CL path: ./cow_list\\Cow_list_20201023T000000UTC.csv\n",
      "Shape of matrix: (210, 210)\n",
      "number of nodes in graph 210 length of cowlist 210\n",
      "Document No. 8\n",
      "TM path: ./time_matrix\\Time_FA_20201024T000000UTC.csv CL path: ./cow_list\\Cow_list_20201024T000000UTC.csv\n",
      "Shape of matrix: (209, 209)\n",
      "number of nodes in graph 209 length of cowlist 209\n",
      "Document No. 9\n",
      "TM path: ./time_matrix\\Time_FA_20201025T000000UTC.csv CL path: ./cow_list\\Cow_list_20201025T000000UTC.csv\n",
      "Shape of matrix: (205, 205)\n",
      "number of nodes in graph 205 length of cowlist 205\n",
      "Document No. 10\n",
      "TM path: ./time_matrix\\Time_FA_20201026T000000UTC.csv CL path: ./cow_list\\Cow_list_20201026T000000UTC.csv\n",
      "Shape of matrix: (210, 210)\n",
      "number of nodes in graph 210 length of cowlist 210\n",
      "Document No. 11\n",
      "TM path: ./time_matrix\\Time_FA_20201027T000000UTC.csv CL path: ./cow_list\\Cow_list_20201027T000000UTC.csv\n",
      "Shape of matrix: (209, 209)\n",
      "number of nodes in graph 209 length of cowlist 209\n",
      "Document No. 12\n",
      "TM path: ./time_matrix\\Time_FA_20201028T000000UTC.csv CL path: ./cow_list\\Cow_list_20201028T000000UTC.csv\n",
      "Shape of matrix: (205, 205)\n",
      "number of nodes in graph 205 length of cowlist 205\n",
      "Document No. 13\n",
      "TM path: ./time_matrix\\Time_FA_20201029T000000UTC.csv CL path: ./cow_list\\Cow_list_20201029T000000UTC.csv\n",
      "The length of the list:  14\n"
     ]
    }
   ],
   "source": [
    "# This part is used to process the time matrices\n",
    "tm_folder = './time_matrix'\n",
    "cl_folder = './cow_list'\n",
    "data_dict_list = time_matrix_to_graph(tm_folder,cl_folder)"
   ]
  },
  {
   "cell_type": "code",
   "execution_count": 5,
   "metadata": {},
   "outputs": [],
   "source": [
    "# Clique Percolation algorithm\n",
    "def community_detection_PC(i,pos,G_AM):\n",
    "    # Remove the nodes whose degree is zero\n",
    "    nodes_removed = [node for node,degree in dict(G_AM.degree()).items() if degree == 0]\n",
    "    G_AM.remove_nodes_from(nodes_removed)\n",
    "    \n",
    "    #Start percolation clique algorithm\n",
    "    #listcommunities_PC = nx.algorithms.community.k_clique_communities(G_AM,3)\n",
    "    communities_PC_frozen = list(nx.algorithms.community.k_clique_communities(G_AM,3))\n",
    "    communities_PC = [set(x) for x in communities_PC_frozen]\n",
    "    len_PC = len(communities_PC)\n",
    "    print(len_PC)\n",
    "    #print('Modularity',nx.algorithms.community.quality.modularity(G_AM,communities_PC))\n",
    "    # Give the nodes in the graph an attribute:community_PC\n",
    "    # The erial number of communities starts from 1\n",
    "    community_dict_PC = defaultdict(list)  \n",
    "    community_num_PC = 1\n",
    "    for community_PC in communities_PC:\n",
    "        for character_PC in community_PC:\n",
    "            community_dict_PC[character_PC].append(community_num_PC)\n",
    "            nx.set_node_attributes(G_AM, community_dict_PC, 'community_PC')\n",
    "        community_num_PC += 1\n",
    "    \n",
    "    # Part for plotting and saving figures\n",
    "\n",
    "    # compute graph layout\n",
    "    #pos = nx.kamada_kawai_layout(G_AM)\n",
    "    #pos = nx.random_layout(G_AM) \n",
    "    #pos = nx.circular_layout(G_AM)  \n",
    "    #pos = nx.shell_layout(G_AM)\n",
    "    pos = nx.spring_layout(G_AM, k=0.2, pos=None, fixed=None, iterations=50, threshold=0.0001, weight='weight', scale=1, center=None, dim=2, seed=7) \n",
    "\n",
    "    # image size\n",
    "    plt.figure(figsize=(30, 30)) \n",
    "    nx.draw_networkx_nodes(G_AM, pos, node_size = 100,node_color = 'black',alpha = 0.1)\n",
    "    nx.draw_networkx_edges(G_AM, pos, alpha=0.01)\n",
    "    nx.draw_networkx_labels(G_AM, pos, alpha= 0.5, font_color='grey')\n",
    "    # Colormap for plotting\n",
    "    color_PC = 0\n",
    "    random.seed(7)\n",
    "    total_colors = list(mpl.colors.get_named_colors_mapping())\n",
    "    total_colors.remove('black')\n",
    "    color_map_PC = random.sample(total_colors,len_PC)\n",
    "    #color_map_PC = ['red', 'blue','yellow','purple','pink','green','pink','brown','cyan','gold','olive','navy','hotpink','tomato','crimson','azure','peru']\n",
    "    for community_PC in communities_PC:\n",
    "        nx.draw_networkx_nodes(G_AM, pos , nodelist = community_PC, node_size = 200, node_color = color_map_PC[color_PC])\n",
    "        nx.draw_networkx_edges(G_AM, pos ,edgelist = list(itertools.chain.from_iterable([list(G_AM.edges(node)) for node in community_PC])) ,edge_color = color_map_PC[color_PC], alpha = 0.5)\n",
    "        color_PC += 1\n",
    "\n",
    "    plt.savefig('./community/PC/Day%d.png'%i)    \n",
    "    #plt.show()\n",
    "    plt.close()\n",
    "    \n",
    "    return communities_PC"
   ]
  },
  {
   "cell_type": "code",
   "execution_count": 6,
   "metadata": {},
   "outputs": [
    {
     "name": "stderr",
     "output_type": "stream",
     "text": [
      "\r",
      "  0% (0 of 14) |                         | Elapsed Time: 0:00:00 ETA:  --:--:--"
     ]
    },
    {
     "name": "stdout",
     "output_type": "stream",
     "text": [
      "28\n"
     ]
    },
    {
     "name": "stderr",
     "output_type": "stream",
     "text": [
      "\r",
      "  7% (1 of 14) |#                        | Elapsed Time: 0:00:01 ETA:   0:00:16"
     ]
    },
    {
     "name": "stdout",
     "output_type": "stream",
     "text": [
      "29\n"
     ]
    },
    {
     "name": "stderr",
     "output_type": "stream",
     "text": [
      "\r",
      " 14% (2 of 14) |###                      | Elapsed Time: 0:00:02 ETA:   0:00:15"
     ]
    },
    {
     "name": "stdout",
     "output_type": "stream",
     "text": [
      "28\n"
     ]
    },
    {
     "name": "stderr",
     "output_type": "stream",
     "text": [
      "\r",
      " 21% (3 of 14) |#####                    | Elapsed Time: 0:00:04 ETA:   0:00:15"
     ]
    },
    {
     "name": "stdout",
     "output_type": "stream",
     "text": [
      "23\n"
     ]
    },
    {
     "name": "stderr",
     "output_type": "stream",
     "text": [
      "\r",
      " 28% (4 of 14) |#######                  | Elapsed Time: 0:00:05 ETA:   0:00:14"
     ]
    },
    {
     "name": "stdout",
     "output_type": "stream",
     "text": [
      "32\n"
     ]
    },
    {
     "name": "stderr",
     "output_type": "stream",
     "text": [
      "\r",
      " 35% (5 of 14) |########                 | Elapsed Time: 0:00:06 ETA:   0:00:12"
     ]
    },
    {
     "name": "stdout",
     "output_type": "stream",
     "text": [
      "32\n"
     ]
    },
    {
     "name": "stderr",
     "output_type": "stream",
     "text": [
      "\r",
      " 42% (6 of 14) |##########               | Elapsed Time: 0:00:08 ETA:   0:00:10"
     ]
    },
    {
     "name": "stdout",
     "output_type": "stream",
     "text": [
      "35\n"
     ]
    },
    {
     "name": "stderr",
     "output_type": "stream",
     "text": [
      "\r",
      " 50% (7 of 14) |############             | Elapsed Time: 0:00:09 ETA:   0:00:09"
     ]
    },
    {
     "name": "stdout",
     "output_type": "stream",
     "text": [
      "33\n"
     ]
    },
    {
     "name": "stderr",
     "output_type": "stream",
     "text": [
      "\r",
      " 57% (8 of 14) |##############           | Elapsed Time: 0:00:10 ETA:   0:00:08"
     ]
    },
    {
     "name": "stdout",
     "output_type": "stream",
     "text": [
      "29\n"
     ]
    },
    {
     "name": "stderr",
     "output_type": "stream",
     "text": [
      "\r",
      " 64% (9 of 14) |################         | Elapsed Time: 0:00:12 ETA:   0:00:07"
     ]
    },
    {
     "name": "stdout",
     "output_type": "stream",
     "text": [
      "33\n"
     ]
    },
    {
     "name": "stderr",
     "output_type": "stream",
     "text": [
      "\r",
      " 71% (10 of 14) |#################       | Elapsed Time: 0:00:13 ETA:   0:00:05"
     ]
    },
    {
     "name": "stdout",
     "output_type": "stream",
     "text": [
      "42\n"
     ]
    },
    {
     "name": "stderr",
     "output_type": "stream",
     "text": [
      "\r",
      " 78% (11 of 14) |##################      | Elapsed Time: 0:00:15 ETA:   0:00:04"
     ]
    },
    {
     "name": "stdout",
     "output_type": "stream",
     "text": [
      "29\n"
     ]
    },
    {
     "name": "stderr",
     "output_type": "stream",
     "text": [
      "\r",
      " 85% (12 of 14) |####################    | Elapsed Time: 0:00:16 ETA:   0:00:02"
     ]
    },
    {
     "name": "stdout",
     "output_type": "stream",
     "text": [
      "31\n"
     ]
    },
    {
     "name": "stderr",
     "output_type": "stream",
     "text": [
      "\r",
      " 92% (13 of 14) |######################  | Elapsed Time: 0:00:17 ETA:   0:00:01"
     ]
    },
    {
     "name": "stdout",
     "output_type": "stream",
     "text": [
      "25\n"
     ]
    },
    {
     "name": "stderr",
     "output_type": "stream",
     "text": [
      "100% (14 of 14) |########################| Elapsed Time: 0:00:18 Time:  0:00:18\n"
     ]
    }
   ],
   "source": [
    "# Percolation clique algorithm\n",
    "bar = progressbar.ProgressBar()\n",
    "communities_PC_14 = []\n",
    "for i in bar(range(1,len(data_dict_list)+1)):\n",
    "    pos = nx.spring_layout(data_dict_list[i-1].get('Graph'))\n",
    "    communities_PC_14.append(community_detection_PC(i,pos,data_dict_list[i-1].get('Graph')))"
   ]
  },
  {
   "cell_type": "code",
   "execution_count": 7,
   "metadata": {},
   "outputs": [
    {
     "name": "stdout",
     "output_type": "stream",
     "text": [
      "Day 1 and Day 2 & 0.04254915503710066 \\\\\n",
      "Day 2 and Day 3 & 0.04304134032465179 \\\\\n",
      "Day 3 and Day 4 & 0.027661635106150828 \\\\\n",
      "Day 4 and Day 5 & 0.05096484421811753 \\\\\n",
      "Day 5 and Day 6 & 0.04075323021885868 \\\\\n",
      "Day 6 and Day 7 & 0.04740644066162636 \\\\\n",
      "Day 7 and Day 8 & 0.05610520130384222 \\\\\n",
      "Day 8 and Day 9 & 0.04510778294743001 \\\\\n",
      "Day 9 and Day 10 & 0.046967654253012414 \\\\\n",
      "Day 10 and Day 11 & 0.0525254200613251 \\\\\n",
      "Day 11 and Day 12 & 0.045129212039993316 \\\\\n",
      "Day 12 and Day 13 & 0.043908593976574206 \\\\\n",
      "Day 13 and Day 14 & 0.046449961556535246 \\\\\n"
     ]
    }
   ],
   "source": [
    "for i in (range(1,len(data_dict_list))):\n",
    "    print('Day %d and Day %d'%(i,i+1),'&',onmi(communities_PC_14[i-1],communities_PC_14[i]),'\\\\\\\\')\n",
    "    "
   ]
  },
  {
   "cell_type": "code",
   "execution_count": null,
   "metadata": {},
   "outputs": [],
   "source": []
  }
 ],
 "metadata": {
  "kernelspec": {
   "display_name": "Python 3",
   "language": "python",
   "name": "python3"
  },
  "language_info": {
   "codemirror_mode": {
    "name": "ipython",
    "version": 3
   },
   "file_extension": ".py",
   "mimetype": "text/x-python",
   "name": "python",
   "nbconvert_exporter": "python",
   "pygments_lexer": "ipython3",
   "version": "3.8.3"
  }
 },
 "nbformat": 4,
 "nbformat_minor": 4
}
