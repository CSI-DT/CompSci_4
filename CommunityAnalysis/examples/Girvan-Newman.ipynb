{
 "cells": [
  {
   "cell_type": "code",
   "execution_count": 161,
   "metadata": {},
   "outputs": [
    {
     "name": "stdout",
     "output_type": "stream",
     "text": [
      "Requirement already satisfied: python-louvain in f:\\anaconda\\lib\\site-packages (0.15)\n",
      "Requirement already satisfied: numpy in f:\\anaconda\\lib\\site-packages (from python-louvain) (1.18.5)\n",
      "Requirement already satisfied: networkx in f:\\anaconda\\lib\\site-packages (from python-louvain) (2.4)\n",
      "Requirement already satisfied: decorator>=4.3.0 in f:\\anaconda\\lib\\site-packages (from networkx->python-louvain) (4.4.2)\n",
      "Collecting progressbar2\n",
      "  Downloading progressbar2-3.55.0-py2.py3-none-any.whl (26 kB)\n",
      "Collecting python-utils>=2.3.0\n",
      "  Downloading python_utils-2.5.6-py2.py3-none-any.whl (12 kB)\n",
      "Requirement already satisfied: six in f:\\anaconda\\lib\\site-packages (from progressbar2) (1.15.0)\n",
      "Installing collected packages: python-utils, progressbar2\n",
      "Successfully installed progressbar2-3.55.0 python-utils-2.5.6\n"
     ]
    }
   ],
   "source": [
    "# To use louvain algorithm\n",
    "!pip3 install python-louvain\n",
    "# To use progressbar\n",
    "!pip3 install progressbar2"
   ]
  },
  {
   "cell_type": "code",
   "execution_count": 1,
   "metadata": {},
   "outputs": [],
   "source": [
    "import pandas as pd\n",
    "import numpy as np\n",
    "import math as m\n",
    "import time \n",
    "from pycowview.data import csv_read_FA\n",
    "from pycowview.manipulate import unique_cows\n",
    "from pycowview.metrics import interaction_time\n",
    "import networkx as nx\n",
    "%matplotlib inline\n",
    "import matplotlib.pyplot as plt\n",
    "import matplotlib as mpl\n",
    "import itertools\n",
    "import os\n",
    "import community\n",
    "from collections import defaultdict\n",
    "import progressbar\n",
    "import random"
   ]
  },
  {
   "cell_type": "code",
   "execution_count": 2,
   "metadata": {},
   "outputs": [],
   "source": [
    "# This function will get the path of each csv file\n",
    "def findAllFile(base):\n",
    "    for root, ds, fs in os.walk(base):\n",
    "        for f in fs:\n",
    "            if f.endswith('.csv'):\n",
    "                fullname = os.path.join(root, f)\n",
    "                yield fullname\n",
    "\n",
    "# Input is the folders where the time matrix and cowlist are saved\n",
    "# Output is a list which consists of 14 dictionaries\n",
    "# The structure of dictionary:Cowlist,TimeMatrix,AajacencyMatrix_binary,Unweighted_Graph\n",
    "def time_matrix_to_graph(tm_folder,cl_folder):\n",
    "    dict_list = []\n",
    "    i = 0\n",
    "    tmlist = list(findAllFile(tm_folder))\n",
    "    tmlist.sort()\n",
    "    cllist = list(findAllFile(cl_folder))\n",
    "    cllist.sort()\n",
    "    for tm,cl in zip(tmlist,cllist):\n",
    "        # print(tm,cl)\n",
    "        # Get the path of csv\n",
    "        # get cowlist\n",
    "        cowlist = np.loadtxt(cl,delimiter=\",\").astype(int)\n",
    "        # load original time matrix from csv and process it to be an adjacency Matrix\n",
    "        OM = np.asmatrix(np.loadtxt(tm,delimiter=\",\"))\n",
    "        \n",
    "        # Get unweighted adjacency matrix(binary)\n",
    "        # init adjacency matrix\n",
    "        AM = np.zeros((OM.shape))\n",
    "        # set the threshold to be 30 minutes(1800 seconds)\n",
    "        epsilon = 1800\n",
    "        # just consider if there is an edge between two cows, the edge is unweighted\n",
    "        AM[OM >= epsilon] = 1\n",
    "        AM[OM < epsilon] = 0\n",
    "        \n",
    "        # Get weighted adjacency matrix\n",
    "        \n",
    "        \n",
    "        # Get graph from AM, no-direct and no-weight graph\n",
    "        G_AM_temp = nx.from_numpy_matrix(AM,parallel_edges=False,create_using = nx.Graph())\n",
    "        # Make sure the order of cowlist is the same as the row name!\n",
    "        print('Shape of matrix:',AM.shape)\n",
    "        print('number of nodes in graph',len(G_AM_temp),'length of cowlist',len(cowlist))\n",
    "        mapping = dict(zip(G_AM_temp, cowlist))\n",
    "        #print(mapping)\n",
    "        # Rename the nodes\n",
    "        G_AM = nx.relabel_nodes(G_AM_temp, mapping)\n",
    "        \n",
    "        # Get the dict of the collection(CL,TM,AM_binary,Graph)\n",
    "        data_dict = dict(CL=cowlist,TM=OM,AM_binary=AM,Graph=G_AM)\n",
    "        print('Document No.',i)\n",
    "        print('TM path:',tm,'CL path:',cl)\n",
    "        i = i + 1\n",
    "        dict_list.append(data_dict)\n",
    "\n",
    "    print('The length of the list: ',len(dict_list))\n",
    "    return dict_list"
   ]
  },
  {
   "cell_type": "code",
   "execution_count": 3,
   "metadata": {},
   "outputs": [
    {
     "name": "stdout",
     "output_type": "stream",
     "text": [
      "Shape of matrix: (213, 213)\n",
      "number of nodes in graph 213 length of cowlist 213\n",
      "Document No. 0\n",
      "TM path: ./time_matrix\\Time_FA_20201016T000000UTC.csv CL path: ./cow_list\\Cow_list_20201016T000000UTC.csv\n",
      "Shape of matrix: (212, 212)\n",
      "number of nodes in graph 212 length of cowlist 212\n",
      "Document No. 1\n",
      "TM path: ./time_matrix\\Time_FA_20201017T000000UTC.csv CL path: ./cow_list\\Cow_list_20201017T000000UTC.csv\n",
      "Shape of matrix: (219, 219)\n",
      "number of nodes in graph 219 length of cowlist 219\n",
      "Document No. 2\n",
      "TM path: ./time_matrix\\Time_FA_20201018T000000UTC.csv CL path: ./cow_list\\Cow_list_20201018T000000UTC.csv\n",
      "Shape of matrix: (208, 208)\n",
      "number of nodes in graph 208 length of cowlist 208\n",
      "Document No. 3\n",
      "TM path: ./time_matrix\\Time_FA_20201019T000000UTC.csv CL path: ./cow_list\\Cow_list_20201019T000000UTC.csv\n",
      "Shape of matrix: (209, 209)\n",
      "number of nodes in graph 209 length of cowlist 209\n",
      "Document No. 4\n",
      "TM path: ./time_matrix\\Time_FA_20201020T000000UTC.csv CL path: ./cow_list\\Cow_list_20201020T000000UTC.csv\n",
      "Shape of matrix: (208, 208)\n",
      "number of nodes in graph 208 length of cowlist 208\n",
      "Document No. 5\n",
      "TM path: ./time_matrix\\Time_FA_20201021T000000UTC.csv CL path: ./cow_list\\Cow_list_20201021T000000UTC.csv\n",
      "Shape of matrix: (210, 210)\n",
      "number of nodes in graph 210 length of cowlist 210\n",
      "Document No. 6\n",
      "TM path: ./time_matrix\\Time_FA_20201022T000000UTC.csv CL path: ./cow_list\\Cow_list_20201022T000000UTC.csv\n",
      "Shape of matrix: (210, 210)\n",
      "number of nodes in graph 210 length of cowlist 210\n",
      "Document No. 7\n",
      "TM path: ./time_matrix\\Time_FA_20201023T000000UTC.csv CL path: ./cow_list\\Cow_list_20201023T000000UTC.csv\n",
      "Shape of matrix: (210, 210)\n",
      "number of nodes in graph 210 length of cowlist 210\n",
      "Document No. 8\n",
      "TM path: ./time_matrix\\Time_FA_20201024T000000UTC.csv CL path: ./cow_list\\Cow_list_20201024T000000UTC.csv\n",
      "Shape of matrix: (209, 209)\n",
      "number of nodes in graph 209 length of cowlist 209\n",
      "Document No. 9\n",
      "TM path: ./time_matrix\\Time_FA_20201025T000000UTC.csv CL path: ./cow_list\\Cow_list_20201025T000000UTC.csv\n",
      "Shape of matrix: (205, 205)\n",
      "number of nodes in graph 205 length of cowlist 205\n",
      "Document No. 10\n",
      "TM path: ./time_matrix\\Time_FA_20201026T000000UTC.csv CL path: ./cow_list\\Cow_list_20201026T000000UTC.csv\n",
      "Shape of matrix: (210, 210)\n",
      "number of nodes in graph 210 length of cowlist 210\n",
      "Document No. 11\n",
      "TM path: ./time_matrix\\Time_FA_20201027T000000UTC.csv CL path: ./cow_list\\Cow_list_20201027T000000UTC.csv\n",
      "Shape of matrix: (209, 209)\n",
      "number of nodes in graph 209 length of cowlist 209\n",
      "Document No. 12\n",
      "TM path: ./time_matrix\\Time_FA_20201028T000000UTC.csv CL path: ./cow_list\\Cow_list_20201028T000000UTC.csv\n",
      "Shape of matrix: (205, 205)\n",
      "number of nodes in graph 205 length of cowlist 205\n",
      "Document No. 13\n",
      "TM path: ./time_matrix\\Time_FA_20201029T000000UTC.csv CL path: ./cow_list\\Cow_list_20201029T000000UTC.csv\n",
      "The length of the list:  14\n"
     ]
    }
   ],
   "source": [
    "# This part is used to process the time matrices\n",
    "tm_folder = './time_matrix'\n",
    "cl_folder = './cow_list'\n",
    "data_dict_list = time_matrix_to_graph(tm_folder,cl_folder)"
   ]
  },
  {
   "cell_type": "code",
   "execution_count": 9,
   "metadata": {},
   "outputs": [],
   "source": [
    "# Girvan-Newman community detection\n",
    "def community_detection_GN(i,pos,G_AM):\n",
    "    # Remove the nodes whose degree is zero\n",
    "    nodes_removed = [node for node,degree in dict(G_AM.degree()).items() if degree == 0]\n",
    "    G_AM.remove_nodes_from(nodes_removed)\n",
    "\n",
    "    # Start GN algorithm\n",
    "    comp = nx.algorithms.community.girvan_newman(G_AM)\n",
    "\n",
    "    # limit the number of communities, k =20 communities we assume\n",
    "    k = 20\n",
    "    limited = itertools.takewhile(lambda c: len(c) <= k, comp)\n",
    "    communities_GN = list(limited)[-1]\n",
    "    \n",
    "    print(nx.algorithms.community.quality.modularity(G_AM,communities_GN))\n",
    "\n",
    "    # Give the nodes in the graph an attribute:community_GN\n",
    "    # The erial number of communities starts from 1\n",
    "    community_dict_GN = defaultdict(list)\n",
    "    community_num_GN = 1\n",
    "    for community_GN in communities_GN:\n",
    "        for character_GN in community_GN:\n",
    "            community_dict_GN[character_GN].append(community_num_GN)\n",
    "            nx.set_node_attributes(G_AM, community_dict_GN, 'community_GN')\n",
    "        community_num_GN += 1\n",
    "\n",
    "    # Part for plotting and saving figures\n",
    "\n",
    "    # compute graph layout\n",
    "    #pos = nx.kamada_kawai_layout(G_AM)\n",
    "    #pos = nx.random_layout(G_AM) \n",
    "    #pos = nx.circular_layout(G_AM)  \n",
    "    #pos = nx.shell_layout(G_AM)\n",
    "    #pos = nx.spring_layout(G_AM, k=0.2, pos=None, fixed=None, iterations=50, threshold=0.0001, weight='weight', scale=1, center=None, dim=2, seed=7) \n",
    "\n",
    "    # image size\n",
    "    plt.figure(figsize=(30, 30)) \n",
    "    nx.draw_networkx_nodes(G_AM, pos, node_size = 100,node_color = 'black',alpha = 1)\n",
    "    nx.draw_networkx_edges(G_AM, pos, alpha=0.2)\n",
    "    nx.draw_networkx_labels(G_AM, pos, alpha=0.5)\n",
    "    # Colormap for plotting\n",
    "    color_GN = 0\n",
    "    color_map_GN = ['red', 'blue', 'yellow', 'purple',  'pink', 'green', 'pink','brown','cyan','gold','red', 'blue', 'yellow', 'purple',  'pink', 'green', 'pink','brown','cyan','gold']\n",
    "    for community_GN in communities_GN:\n",
    "        nx.draw_networkx_nodes(G_AM, pos , nodelist = community_GN, node_size = 100, node_color = color_map_GN[color_GN])\n",
    "        nx.draw_networkx_edges(G_AM, pos ,alpha = 0.02)\n",
    "        color_GN += 1\n",
    "\n",
    "    plt.savefig('./community/GN/Day%d.png'%i)    \n",
    "    #plt.show()\n",
    "    plt.close()\n",
    "    \n",
    "    return communities_GN"
   ]
  },
  {
   "cell_type": "code",
   "execution_count": 10,
   "metadata": {},
   "outputs": [
    {
     "name": "stderr",
     "output_type": "stream",
     "text": [
      "\r",
      "  0% (0 of 14) |                         | Elapsed Time: 0:00:00 ETA:  --:--:--"
     ]
    },
    {
     "name": "stdout",
     "output_type": "stream",
     "text": [
      "0.0295638872527732\n"
     ]
    },
    {
     "name": "stderr",
     "output_type": "stream",
     "text": [
      "\r",
      "  7% (1 of 14) |#                        | Elapsed Time: 0:00:36 ETA:   0:07:54"
     ]
    },
    {
     "name": "stdout",
     "output_type": "stream",
     "text": [
      "0.0138355092838132\n"
     ]
    },
    {
     "name": "stderr",
     "output_type": "stream",
     "text": [
      "\r",
      " 14% (2 of 14) |###                      | Elapsed Time: 0:01:09 ETA:   0:06:34"
     ]
    },
    {
     "name": "stdout",
     "output_type": "stream",
     "text": [
      "0.031347756384817155\n"
     ]
    },
    {
     "name": "stderr",
     "output_type": "stream",
     "text": [
      "\r",
      " 21% (3 of 14) |#####                    | Elapsed Time: 0:02:02 ETA:   0:09:42"
     ]
    },
    {
     "name": "stdout",
     "output_type": "stream",
     "text": [
      "0.013193032048450975\n"
     ]
    },
    {
     "name": "stderr",
     "output_type": "stream",
     "text": [
      "\r",
      " 28% (4 of 14) |#######                  | Elapsed Time: 0:02:30 ETA:   0:04:43"
     ]
    },
    {
     "name": "stdout",
     "output_type": "stream",
     "text": [
      "0.05423599999999382\n"
     ]
    },
    {
     "name": "stderr",
     "output_type": "stream",
     "text": [
      "\r",
      " 35% (5 of 14) |########                 | Elapsed Time: 0:03:07 ETA:   0:05:34"
     ]
    },
    {
     "name": "stdout",
     "output_type": "stream",
     "text": [
      "0.05057953489051267\n"
     ]
    },
    {
     "name": "stderr",
     "output_type": "stream",
     "text": [
      "\r",
      " 42% (6 of 14) |##########               | Elapsed Time: 0:03:44 ETA:   0:04:55"
     ]
    },
    {
     "name": "stdout",
     "output_type": "stream",
     "text": [
      "0.059148085207132585\n"
     ]
    },
    {
     "name": "stderr",
     "output_type": "stream",
     "text": [
      "\r",
      " 50% (7 of 14) |############             | Elapsed Time: 0:04:20 ETA:   0:04:09"
     ]
    },
    {
     "name": "stdout",
     "output_type": "stream",
     "text": [
      "0.03400121495743141\n"
     ]
    },
    {
     "name": "stderr",
     "output_type": "stream",
     "text": [
      "\r",
      " 57% (8 of 14) |##############           | Elapsed Time: 0:04:54 ETA:   0:03:24"
     ]
    },
    {
     "name": "stdout",
     "output_type": "stream",
     "text": [
      "0.055606139438084415\n"
     ]
    },
    {
     "name": "stderr",
     "output_type": "stream",
     "text": [
      "\r",
      " 64% (9 of 14) |################         | Elapsed Time: 0:05:44 ETA:   0:04:11"
     ]
    },
    {
     "name": "stdout",
     "output_type": "stream",
     "text": [
      "0.02622277617039004\n"
     ]
    },
    {
     "name": "stderr",
     "output_type": "stream",
     "text": [
      "\r",
      " 71% (10 of 14) |#################       | Elapsed Time: 0:06:19 ETA:   0:02:18"
     ]
    },
    {
     "name": "stdout",
     "output_type": "stream",
     "text": [
      "0.01118757789927223\n"
     ]
    },
    {
     "name": "stderr",
     "output_type": "stream",
     "text": [
      "\r",
      " 78% (11 of 14) |##################      | Elapsed Time: 0:06:52 ETA:   0:01:39"
     ]
    },
    {
     "name": "stdout",
     "output_type": "stream",
     "text": [
      "0.027468715401200883\n"
     ]
    },
    {
     "name": "stderr",
     "output_type": "stream",
     "text": [
      "\r",
      " 85% (12 of 14) |####################    | Elapsed Time: 0:07:23 ETA:   0:01:01"
     ]
    },
    {
     "name": "stdout",
     "output_type": "stream",
     "text": [
      "0.04409670538977479\n"
     ]
    },
    {
     "name": "stderr",
     "output_type": "stream",
     "text": [
      "\r",
      " 92% (13 of 14) |######################  | Elapsed Time: 0:08:05 ETA:   0:00:41"
     ]
    },
    {
     "name": "stdout",
     "output_type": "stream",
     "text": [
      "0.014738894139886455\n"
     ]
    },
    {
     "name": "stderr",
     "output_type": "stream",
     "text": [
      "100% (14 of 14) |########################| Elapsed Time: 0:08:35 Time:  0:08:35\n"
     ]
    }
   ],
   "source": [
    "# the modularity will be printed\n",
    "bar = progressbar.ProgressBar()\n",
    "for i in bar(range(1,len(data_dict_list)+1)):\n",
    "    pos = nx.spring_layout(data_dict_list[i-1].get('Graph'))\n",
    "    community_detection_GN(i,pos,data_dict_list[i-1].get('Graph'))"
   ]
  },
  {
   "cell_type": "markdown",
   "metadata": {},
   "source": [
    "# Get the total cowlist in the 14 days （All cows that have appeared once will be counted in a cowlist）"
   ]
  },
  {
   "cell_type": "code",
   "execution_count": null,
   "metadata": {},
   "outputs": [],
   "source": [
    "# Get all cows in 14 days\n",
    "cowlist_union = set()\n",
    "for i in range(1,len(data_dict_list)+1):\n",
    "    cowlist_union = cowlist_union.union(set(data_dict_list[i-1].get('CL')))\n",
    "    print('cowlist',len(data_dict_list[i-1].get('CL')))\n",
    "    print('shape of adjacency matrix',np.shape(data_dict_list[i-1].get('TM')))\n",
    "    print('cowlist_union',len(cowlist_union))\n",
    "    print(i)"
   ]
  },
  {
   "cell_type": "markdown",
   "metadata": {},
   "source": [
    "# Compute betweenness"
   ]
  },
  {
   "cell_type": "code",
   "execution_count": null,
   "metadata": {},
   "outputs": [],
   "source": [
    "# Compute the betweenness and store it in the graph\n",
    "def compute_betweenness(i,G_AM):\n",
    "    # compute betweeness\n",
    "    betweenness_dict = nx.betweenness_centrality(G_AM)\n",
    "    nx.set_node_attributes(G_AM,betweenness_dict,'betweenness')\n",
    "    #return betweenness_dict"
   ]
  },
  {
   "cell_type": "code",
   "execution_count": null,
   "metadata": {},
   "outputs": [],
   "source": [
    "bar = progressbar.ProgressBar()\n",
    "for i in bar(range(1,len(data_dict_list)+1)):\n",
    "    compute_betweenness(i,data_dict_list[i-1].get('Graph'))\n",
    "    print(i)   "
   ]
  }
 ],
 "metadata": {
  "kernelspec": {
   "display_name": "Python 3",
   "language": "python",
   "name": "python3"
  },
  "language_info": {
   "codemirror_mode": {
    "name": "ipython",
    "version": 3
   },
   "file_extension": ".py",
   "mimetype": "text/x-python",
   "name": "python",
   "nbconvert_exporter": "python",
   "pygments_lexer": "ipython3",
   "version": "3.8.3"
  }
 },
 "nbformat": 4,
 "nbformat_minor": 4
}
