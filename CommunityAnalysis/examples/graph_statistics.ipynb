{
 "cells": [
  {
   "cell_type": "code",
   "execution_count": 1,
   "metadata": {},
   "outputs": [],
   "source": [
    "import pandas as pd\n",
    "import numpy as np\n",
    "import math as m\n",
    "import time \n",
    "from pycowview.data import csv_read_FA\n",
    "from pycowview.manipulate import unique_cows\n",
    "from pycowview.metrics import interaction_time\n",
    "import networkx as nx\n",
    "%matplotlib inline\n",
    "import matplotlib.pyplot as plt\n",
    "import matplotlib as mpl\n",
    "import itertools\n",
    "import os\n",
    "import community\n",
    "from collections import defaultdict,Counter\n",
    "import progressbar\n",
    "import random\n",
    "import itertools \n",
    "from sklearn.metrics.cluster import normalized_mutual_info_score\n",
    "from sklearn.metrics.cluster import adjusted_mutual_info_score\n",
    "from sklearn.metrics import f1_score"
   ]
  },
  {
   "cell_type": "code",
   "execution_count": 2,
   "metadata": {},
   "outputs": [],
   "source": [
    "# Weighted version!\n",
    "# This function will get the path of each csv file\n",
    "def findAllFile(base):\n",
    "    for root, ds, fs in os.walk(base):\n",
    "        for f in fs:\n",
    "            if f.endswith('.csv'):\n",
    "                fullname = os.path.join(root, f)\n",
    "                yield fullname\n",
    "\n",
    "# Input is the folders where the time matrix and cowlist are saved\n",
    "# Output is a list which consists of 14 dictionaries\n",
    "# The structure of dictionary:Cowlist,TimeMatrix,AajacencyMatrix_binary,Unweighted_Graph\n",
    "def time_matrix_to_graph(tm_folder,cl_folder):\n",
    "    dict_list = []\n",
    "    i = 0\n",
    "    tmlist = list(findAllFile(tm_folder))\n",
    "    tmlist.sort()\n",
    "    cllist = list(findAllFile(cl_folder))\n",
    "    cllist.sort()\n",
    "    for tm,cl in zip(tmlist,cllist):\n",
    "        # print(tm,cl)\n",
    "        # Get the path of csv\n",
    "        # get cowlist\n",
    "        cowlist = np.loadtxt(cl,delimiter=\",\").astype(int)\n",
    "        # load original time matrix from csv and process it to be an adjacency Matrix\n",
    "        OM = np.asmatrix(np.loadtxt(tm,delimiter=\",\"))\n",
    "        \n",
    "        # Get unweighted adjacency matrix(binary)\n",
    "        # init adjacency matrix\n",
    "        #AM = np.zeros((OM.shape))\n",
    "        # set the threshold to be 30 minutes(1800 seconds)\n",
    "        #epsilon = 1800\n",
    "        # just consider if there is an edge between two cows, the edge is unweighted\n",
    "        #AM[OM >= epsilon] = 1\n",
    "        #AM[OM < epsilon] = 0 \n",
    "        #np.fill_diagonal(AM,0)\n",
    "        # Get graph from AM, no-direct and no-weight graph\n",
    "        #G_AM_temp = nx.from_numpy_matrix(AM,parallel_edges=False,create_using = nx.Graph())\n",
    "        \n",
    "        # Get weighted adjacency matrix\n",
    "        # load original matrix from csv and process it to be an adjacency Matrix\n",
    "        AM = np.zeros((OM.shape))\n",
    "        # set the threshold to be 30 minutes(1800 seconds)\n",
    "        epsilon = 1800\n",
    "        # consider if there is an edge between two cows, the edge is weighted\n",
    "        maxnr=np.amax(OM)\n",
    "        AM=np.where(OM<=epsilon,0,(OM-epsilon)/(maxnr-epsilon))\n",
    "        np.fill_diagonal(AM,0)\n",
    "        # Get graph from AM, no-direct and weighted graph\n",
    "        G_AM_temp = nx.from_numpy_matrix(AM,parallel_edges=False,create_using = nx.Graph())\n",
    "        \n",
    "        # Make sure the order of cowlist is the same as the row name!\n",
    "        print('Shape of matrix:',AM.shape)\n",
    "        print('number of nodes in graph',len(G_AM_temp),'length of cowlist',len(cowlist))\n",
    "        mapping = dict(zip(G_AM_temp, cowlist))\n",
    "        #print(mapping)\n",
    "        # Rename the nodes\n",
    "        G_AM = nx.relabel_nodes(G_AM_temp, mapping)\n",
    "        \n",
    "        # Get the dict of the collection(CL,TM,AM_weighted,Graph)\n",
    "        data_dict = dict(CL=cowlist,TM=OM,AM_weighted=AM,Graph=G_AM)\n",
    "        print('Document No.',i)\n",
    "        print('TM path:',tm,'CL path:',cl)\n",
    "        i = i + 1\n",
    "        dict_list.append(data_dict)\n",
    "\n",
    "    print('The length of the list: ',len(dict_list))\n",
    "    return dict_list"
   ]
  },
  {
   "cell_type": "code",
   "execution_count": 3,
   "metadata": {},
   "outputs": [
    {
     "name": "stdout",
     "output_type": "stream",
     "text": [
      "Shape of matrix: (213, 213)\n",
      "number of nodes in graph 213 length of cowlist 213\n",
      "Document No. 0\n",
      "TM path: ./time_matrix\\Time_FA_20201016T000000UTC.csv CL path: ./cow_list\\Cow_list_20201016T000000UTC.csv\n",
      "Shape of matrix: (212, 212)\n",
      "number of nodes in graph 212 length of cowlist 212\n",
      "Document No. 1\n",
      "TM path: ./time_matrix\\Time_FA_20201017T000000UTC.csv CL path: ./cow_list\\Cow_list_20201017T000000UTC.csv\n",
      "Shape of matrix: (219, 219)\n",
      "number of nodes in graph 219 length of cowlist 219\n",
      "Document No. 2\n",
      "TM path: ./time_matrix\\Time_FA_20201018T000000UTC.csv CL path: ./cow_list\\Cow_list_20201018T000000UTC.csv\n",
      "Shape of matrix: (208, 208)\n",
      "number of nodes in graph 208 length of cowlist 208\n",
      "Document No. 3\n",
      "TM path: ./time_matrix\\Time_FA_20201019T000000UTC.csv CL path: ./cow_list\\Cow_list_20201019T000000UTC.csv\n",
      "Shape of matrix: (209, 209)\n",
      "number of nodes in graph 209 length of cowlist 209\n",
      "Document No. 4\n",
      "TM path: ./time_matrix\\Time_FA_20201020T000000UTC.csv CL path: ./cow_list\\Cow_list_20201020T000000UTC.csv\n",
      "Shape of matrix: (208, 208)\n",
      "number of nodes in graph 208 length of cowlist 208\n",
      "Document No. 5\n",
      "TM path: ./time_matrix\\Time_FA_20201021T000000UTC.csv CL path: ./cow_list\\Cow_list_20201021T000000UTC.csv\n",
      "Shape of matrix: (210, 210)\n",
      "number of nodes in graph 210 length of cowlist 210\n",
      "Document No. 6\n",
      "TM path: ./time_matrix\\Time_FA_20201022T000000UTC.csv CL path: ./cow_list\\Cow_list_20201022T000000UTC.csv\n",
      "Shape of matrix: (210, 210)\n",
      "number of nodes in graph 210 length of cowlist 210\n",
      "Document No. 7\n",
      "TM path: ./time_matrix\\Time_FA_20201023T000000UTC.csv CL path: ./cow_list\\Cow_list_20201023T000000UTC.csv\n",
      "Shape of matrix: (210, 210)\n",
      "number of nodes in graph 210 length of cowlist 210\n",
      "Document No. 8\n",
      "TM path: ./time_matrix\\Time_FA_20201024T000000UTC.csv CL path: ./cow_list\\Cow_list_20201024T000000UTC.csv\n",
      "Shape of matrix: (209, 209)\n",
      "number of nodes in graph 209 length of cowlist 209\n",
      "Document No. 9\n",
      "TM path: ./time_matrix\\Time_FA_20201025T000000UTC.csv CL path: ./cow_list\\Cow_list_20201025T000000UTC.csv\n",
      "Shape of matrix: (205, 205)\n",
      "number of nodes in graph 205 length of cowlist 205\n",
      "Document No. 10\n",
      "TM path: ./time_matrix\\Time_FA_20201026T000000UTC.csv CL path: ./cow_list\\Cow_list_20201026T000000UTC.csv\n",
      "Shape of matrix: (210, 210)\n",
      "number of nodes in graph 210 length of cowlist 210\n",
      "Document No. 11\n",
      "TM path: ./time_matrix\\Time_FA_20201027T000000UTC.csv CL path: ./cow_list\\Cow_list_20201027T000000UTC.csv\n",
      "Shape of matrix: (209, 209)\n",
      "number of nodes in graph 209 length of cowlist 209\n",
      "Document No. 12\n",
      "TM path: ./time_matrix\\Time_FA_20201028T000000UTC.csv CL path: ./cow_list\\Cow_list_20201028T000000UTC.csv\n",
      "Shape of matrix: (205, 205)\n",
      "number of nodes in graph 205 length of cowlist 205\n",
      "Document No. 13\n",
      "TM path: ./time_matrix\\Time_FA_20201029T000000UTC.csv CL path: ./cow_list\\Cow_list_20201029T000000UTC.csv\n",
      "The length of the list:  14\n"
     ]
    }
   ],
   "source": [
    "# This part is used to process the time matrices\n",
    "tm_folder = './time_matrix'\n",
    "cl_folder = './cow_list'\n",
    "data_dict_list = time_matrix_to_graph(tm_folder,cl_folder)"
   ]
  },
  {
   "cell_type": "markdown",
   "metadata": {},
   "source": [
    "# Statistics of graphs\n",
    "Density, number of nodes and edges are included in the part."
   ]
  },
  {
   "cell_type": "code",
   "execution_count": 4,
   "metadata": {},
   "outputs": [
    {
     "name": "stderr",
     "output_type": "stream",
     "text": [
      "100% (14 of 14) |########################| Elapsed Time: 0:00:00 Time:  0:00:00\n"
     ]
    },
    {
     "name": "stdout",
     "output_type": "stream",
     "text": [
      "[213, 212, 219, 208, 209, 208, 210, 210, 210, 209, 205, 210, 209, 205]\n",
      "[1009, 1099, 1249, 1108, 992, 975, 1004, 976, 1106, 1006, 980, 1045, 1046, 1095]\n",
      "[0.04468952077243334, 0.04913708307252079, 0.05232290226634829, 0.051467855815681904, 0.045638571954361426, 0.04528985507246377, 0.04575074048758259, 0.04447482342219184, 0.05039872408293461, 0.046282664703717336, 0.0468675274988044, 0.047619047619047616, 0.04812292970187707, 0.05236728837876614]\n"
     ]
    }
   ],
   "source": [
    "# statistics of graphs\n",
    "# density, number of nodes and edges\n",
    "density = []\n",
    "no_edges = []\n",
    "no_nodes = []\n",
    "bar = progressbar.ProgressBar()\n",
    "# from 0 to 13\n",
    "for i in bar(range(0,len(data_dict_list))):\n",
    "    graph = data_dict_list[i].get('Graph')\n",
    "    no_nodes.append(nx.classes.function.number_of_nodes(graph))\n",
    "    no_edges.append(nx.classes.function.number_of_edges(graph))\n",
    "    density.append(nx.classes.function.density(graph))\n",
    "print(no_nodes)\n",
    "print(no_edges)\n",
    "print(density)"
   ]
  },
  {
   "cell_type": "code",
   "execution_count": 10,
   "metadata": {},
   "outputs": [
    {
     "name": "stderr",
     "output_type": "stream",
     "text": [
      "100% (14 of 14) |########################| Elapsed Time: 0:00:00 Time:  0:00:00\n"
     ]
    },
    {
     "name": "stdout",
     "output_type": "stream",
     "text": [
      "1 & 213 & 1009 & 0.045 \\\\\n",
      "2 & 212 & 1099 & 0.049 \\\\\n",
      "3 & 219 & 1249 & 0.052 \\\\\n",
      "4 & 208 & 1108 & 0.051 \\\\\n",
      "5 & 209 & 992 & 0.046 \\\\\n",
      "6 & 208 & 975 & 0.045 \\\\\n",
      "7 & 210 & 1004 & 0.046 \\\\\n",
      "8 & 210 & 976 & 0.044 \\\\\n",
      "9 & 210 & 1106 & 0.050 \\\\\n",
      "10 & 209 & 1006 & 0.046 \\\\\n",
      "11 & 205 & 980 & 0.047 \\\\\n",
      "12 & 210 & 1045 & 0.048 \\\\\n",
      "13 & 209 & 1046 & 0.048 \\\\\n",
      "14 & 205 & 1095 & 0.052 \\\\\n"
     ]
    }
   ],
   "source": [
    "bar = progressbar.ProgressBar()\n",
    "for i in bar(range(0,len(data_dict_list))):\n",
    "    print(i+1,'&',no_nodes[i],'&',no_edges[i],'&','%.3f' %density[i],'\\\\\\\\')"
   ]
  },
  {
   "cell_type": "code",
   "execution_count": null,
   "metadata": {},
   "outputs": [],
   "source": []
  }
 ],
 "metadata": {
  "kernelspec": {
   "display_name": "Python 3",
   "language": "python",
   "name": "python3"
  },
  "language_info": {
   "codemirror_mode": {
    "name": "ipython",
    "version": 3
   },
   "file_extension": ".py",
   "mimetype": "text/x-python",
   "name": "python",
   "nbconvert_exporter": "python",
   "pygments_lexer": "ipython3",
   "version": "3.8.3"
  }
 },
 "nbformat": 4,
 "nbformat_minor": 4
}
